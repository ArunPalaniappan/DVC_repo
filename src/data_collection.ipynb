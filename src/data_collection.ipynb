{
 "cells": [
  {
   "cell_type": "code",
   "execution_count": 1,
   "metadata": {},
   "outputs": [],
   "source": [
    "import requests\n",
    "from bs4 import BeautifulSoup\n",
    "from urllib.parse import urljoin\n",
    "import urllib\n",
    "\n",
    "import random\n",
    "import os"
   ]
  },
  {
   "cell_type": "code",
   "execution_count": 52,
   "metadata": {},
   "outputs": [],
   "source": [
    "\n",
    "#---------------------------------------------------------------------------------------------#\n",
    "\n",
    "# This function accepts the year as input and retrieves all the links of the files available in that year\n",
    "def fetch_links(base_url, year):\n",
    "    url = f\"{base_url}{year}/\"\n",
    "\n",
    "    response = requests.get(url)\n",
    "\n",
    "    base_url_year = base_url + year + '/'\n",
    "    list_of_links = []\n",
    "    if response.status_code == 200:\n",
    "        soup = BeautifulSoup(response.content, 'html.parser')\n",
    "        links = soup.find_all('a')\n",
    "        \n",
    "        for link in links:\n",
    "            href = link.get('href')\n",
    "            if href:\n",
    "                absolute_url = urljoin(base_url_year, href)\n",
    "                if \".csv\" in absolute_url:\n",
    "                    list_of_links.append(absolute_url)\n",
    "\n",
    "        return list_of_links"
   ]
  },
  {
   "cell_type": "code",
   "execution_count": 53,
   "metadata": {},
   "outputs": [],
   "source": [
    "# Function to randomly sample links from the list of all available links\n",
    "random.seed(8)\n",
    "def random_links(list_of_links, no_of_links):\n",
    "    links_to_fetch = random.sample(list_of_links, no_of_links)\n",
    "    return links_to_fetch"
   ]
  },
  {
   "cell_type": "code",
   "execution_count": 54,
   "metadata": {},
   "outputs": [],
   "source": [
    "# Function to download all the required files using wget, and place it in the required folder\n",
    "def download_files(links_to_fetch, folder):\n",
    "    os.makedirs(folder, exist_ok=True)\n",
    "        \n",
    "    for url in links_to_fetch:\n",
    "        filename = folder + \"/\" + url.split(\"/\")[-1]\n",
    "        urllib.request.urlretrieve(url, filename)"
   ]
  },
  {
   "cell_type": "code",
   "execution_count": 57,
   "metadata": {},
   "outputs": [],
   "source": [
    "def create_folder(folder_path):\n",
    "    if os.path.exists(folder_path):\n",
    "        for root, dirs, files in os.walk(folder_path, topdown=False):\n",
    "            for file in files:\n",
    "                os.remove(os.path.join(root, file)) \n",
    "            for dir in dirs:\n",
    "                os.rmdir(os.path.join(root, dir)) \n",
    "        os.rmdir(folder_path) \n",
    "    os.makedirs(folder_path) "
   ]
  },
  {
   "cell_type": "code",
   "execution_count": 58,
   "metadata": {},
   "outputs": [],
   "source": [
    "# Defining the base_url, year which we want to work with, number of files to be fetched and the destination folder for the csv files\n",
    "base_url = \"https://www.ncei.noaa.gov/data/local-climatological-data/access/\"\n",
    "year = \"2023\"\n",
    "no_of_links = 5\n",
    "folder = \"../data/\" + year\n",
    "create_folder(folder)"
   ]
  },
  {
   "cell_type": "code",
   "execution_count": 59,
   "metadata": {},
   "outputs": [],
   "source": [
    "list_of_links = fetch_links(base_url, year)\n",
    "links_to_fetch = random_links(list_of_links, no_of_links)\n",
    "download_files(links_to_fetch, folder)"
   ]
  },
  {
   "cell_type": "code",
   "execution_count": null,
   "metadata": {},
   "outputs": [],
   "source": []
  },
  {
   "cell_type": "code",
   "execution_count": 5,
   "metadata": {},
   "outputs": [],
   "source": [
    "url = 'https://www.ncei.noaa.gov/data/local-climatological-data/access/2023'\n",
    "\n",
    "# Send a GET request to the URL\n",
    "response = requests.get(url)"
   ]
  },
  {
   "cell_type": "code",
   "execution_count": 11,
   "metadata": {},
   "outputs": [
    {
     "name": "stdout",
     "output_type": "stream",
     "text": [
      "99999903047.csv\n",
      "99999903054.csv\n",
      "99999903055.csv\n",
      "99999903060.csv\n",
      "99999903062.csv\n",
      "99999903063.csv\n",
      "99999903072.csv\n",
      "99999903074.csv\n",
      "99999903728.csv\n",
      "99999903733.csv\n",
      "99999903759.csv\n",
      "99999904125.csv\n",
      "99999904127.csv\n",
      "99999904128.csv\n",
      "99999904130.csv\n",
      "99999904136.csv\n",
      "99999904137.csv\n",
      "99999904138.csv\n",
      "99999904140.csv\n",
      "99999904222.csv\n",
      "99999904223.csv\n",
      "99999904990.csv\n",
      "99999904994.csv\n",
      "99999912987.csv\n",
      "99999913301.csv\n",
      "99999921514.csv\n",
      "99999922016.csv\n",
      "99999923583.csv\n",
      "99999923803.csv\n",
      "99999923904.csv\n",
      "99999923906.csv\n",
      "99999923907.csv\n",
      "99999925381.csv\n",
      "99999925522.csv\n",
      "99999925711.csv\n",
      "99999926494.csv\n",
      "99999926562.csv\n",
      "99999926563.csv\n",
      "99999926655.csv\n",
      "99999927516.csv\n",
      "99999953136.csv\n",
      "99999953139.csv\n",
      "99999953149.csv\n",
      "99999953150.csv\n",
      "99999953151.csv\n",
      "99999953152.csv\n",
      "99999953155.csv\n",
      "99999953877.csv\n",
      "99999953878.csv\n",
      "99999953926.csv\n",
      "99999953927.csv\n",
      "99999953960.csv\n",
      "99999953968.csv\n",
      "99999953974.csv\n",
      "99999954808.csv\n",
      "99999954811.csv\n",
      "99999954854.csv\n",
      "99999954856.csv\n",
      "99999954902.csv\n",
      "99999954903.csv\n",
      "99999954932.csv\n",
      "99999954933.csv\n",
      "99999954937.csv\n",
      "99999963831.csv\n",
      "99999963838.csv\n",
      "99999963849.csv\n",
      "99999963855.csv\n",
      "99999963856.csv\n",
      "99999963857.csv\n",
      "99999963862.csv\n",
      "99999963868.csv\n",
      "99999963869.csv\n",
      "99999963891.csv\n",
      "99999963892.csv\n",
      "99999963893.csv\n",
      "99999963894.csv\n",
      "99999963897.csv\n",
      "99999963898.csv\n",
      "99999963899.csv\n",
      "99999964756.csv\n",
      "99999973802.csv\n",
      "99999973803.csv\n",
      "99999992826.csv\n",
      "99999992827.csv\n",
      "99999993243.csv\n",
      "99999994059.csv\n",
      "99999994074.csv\n",
      "99999994075.csv\n",
      "99999994077.csv\n",
      "99999994078.csv\n",
      "99999994079.csv\n",
      "99999994081.csv\n",
      "99999994082.csv\n",
      "99999994084.csv\n",
      "99999994088.csv\n",
      "99999994645.csv\n",
      "99999994995.csv\n",
      "99999994996.csv\n",
      "99999996409.csv\n"
     ]
    }
   ],
   "source": [
    "# Check if the request was successful (status code 200)\n",
    "if response.status_code == 200:\n",
    "    # Parse the HTML content\n",
    "    soup = BeautifulSoup(response.text, 'html.parser')\n",
    "    \n",
    "    # Get the text content line by line\n",
    "    for line in soup.get_text().split('\\n'):\n",
    "        if 'M' in line:\n",
    "            if float(line.split(' ')[-1].split('M')[0].strip()) > 45.0:\n",
    "                print(line.split(' ')[0].split('.csv')[0] + '.csv')"
   ]
  },
  {
   "cell_type": "code",
   "execution_count": null,
   "metadata": {},
   "outputs": [],
   "source": []
  }
 ],
 "metadata": {
  "kernelspec": {
   "display_name": "Python 3",
   "language": "python",
   "name": "python3"
  },
  "language_info": {
   "codemirror_mode": {
    "name": "ipython",
    "version": 3
   },
   "file_extension": ".py",
   "mimetype": "text/x-python",
   "name": "python",
   "nbconvert_exporter": "python",
   "pygments_lexer": "ipython3",
   "version": "3.9.1"
  }
 },
 "nbformat": 4,
 "nbformat_minor": 2
}
