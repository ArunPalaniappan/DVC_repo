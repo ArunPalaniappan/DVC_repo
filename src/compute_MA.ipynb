{
 "cells": [
  {
   "cell_type": "code",
   "execution_count": 2,
   "metadata": {},
   "outputs": [],
   "source": [
    "import pandas as pd\n",
    "import numpy as np\n",
    "import os"
   ]
  },
  {
   "cell_type": "code",
   "execution_count": 8,
   "metadata": {},
   "outputs": [],
   "source": [
    "\n",
    "def create_folder(folder_path):\n",
    "    if os.path.exists(folder_path):\n",
    "        for root, dirs, files in os.walk(folder_path, topdown=False):\n",
    "            for file in files:\n",
    "                os.remove(os.path.join(root, file)) \n",
    "            for dir in dirs:\n",
    "                os.rmdir(os.path.join(root, dir)) \n",
    "        os.rmdir(folder_path) \n",
    "    os.makedirs(folder_path)\n",
    "\n",
    "compute_folder = rf\"C:\\Users\\91979\\Desktop\\Jup_NoteBks\\BDL\\Asgt_3\\example\\DVC_repo\\outputs_computed\\computed\"\n",
    "create_folder(compute_folder)"
   ]
  },
  {
   "cell_type": "code",
   "execution_count": 9,
   "metadata": {},
   "outputs": [],
   "source": [
    "list_of_fields_dict = {}\n",
    "\n",
    "with open(rf\"C:\\Users\\91979\\Desktop\\Jup_NoteBks\\BDL\\Asgt_3\\example\\DVC_repo\\outputs\\list_of_fields.txt\", 'r') as file:\n",
    "    for line in file:\n",
    "        line = line.strip()\n",
    "\n",
    "        file_name = line.split(':')[0]\n",
    "        quantities = line.split(':')[1].split(',')\n",
    "\n",
    "        list_of_fields_dict[file_name] = quantities"
   ]
  },
  {
   "cell_type": "code",
   "execution_count": 11,
   "metadata": {},
   "outputs": [],
   "source": [
    "directory = rf'C:\\Users\\91979\\Desktop\\Jup_NoteBks\\BDL\\Asgt_3\\example\\DVC_repo\\data'\n",
    "\n",
    "def compute_averages(file_path, filename, list_of_fields_dict):\n",
    "    data = pd.read_csv(file_path)\n",
    "    data['DATE'] = pd.to_datetime(data['DATE'])\n",
    "\n",
    "    common_q_list = list_of_fields_dict[filename]\n",
    "    \n",
    "    computed_df = pd.DataFrame()\n",
    "    for q in common_q_list:\n",
    "        monthly_avg_calc = data.groupby(data['DATE'].dt.to_period('M'))[f'Daily{q}'].mean()\n",
    "        computed_df[f'{q}'] = list(monthly_avg_calc)\n",
    "\n",
    "    return computed_df\n"
   ]
  },
  {
   "cell_type": "code",
   "execution_count": 13,
   "metadata": {},
   "outputs": [],
   "source": [
    "for filename in os.listdir(directory):\n",
    "    file_path = os.path.join(directory, filename)\n",
    "\n",
    "    computed_df = compute_averages(file_path, filename, list_of_fields_dict)\n",
    "    computed_df.to_csv(f'{compute_folder}\\{filename}', index=False)"
   ]
  }
 ],
 "metadata": {
  "kernelspec": {
   "display_name": "Python 3",
   "language": "python",
   "name": "python3"
  },
  "language_info": {
   "codemirror_mode": {
    "name": "ipython",
    "version": 3
   },
   "file_extension": ".py",
   "mimetype": "text/x-python",
   "name": "python",
   "nbconvert_exporter": "python",
   "pygments_lexer": "ipython3",
   "version": "3.9.1"
  }
 },
 "nbformat": 4,
 "nbformat_minor": 2
}
