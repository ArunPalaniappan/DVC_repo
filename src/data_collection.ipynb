{
 "cells": [
  {
   "cell_type": "code",
   "execution_count": 51,
   "metadata": {},
   "outputs": [],
   "source": [
    "import requests\n",
    "from bs4 import BeautifulSoup\n",
    "from urllib.parse import urljoin\n",
    "import urllib\n",
    "\n",
    "import random\n",
    "import os"
   ]
  },
  {
   "cell_type": "code",
   "execution_count": 52,
   "metadata": {},
   "outputs": [],
   "source": [
    "\n",
    "#---------------------------------------------------------------------------------------------#\n",
    "\n",
    "# This function accepts the year as input and retrieves all the links of the files available in that year\n",
    "def fetch_links(base_url, year):\n",
    "    url = f\"{base_url}{year}/\"\n",
    "\n",
    "    response = requests.get(url)\n",
    "\n",
    "    base_url_year = base_url + year + '/'\n",
    "    list_of_links = []\n",
    "    if response.status_code == 200:\n",
    "        soup = BeautifulSoup(response.content, 'html.parser')\n",
    "        links = soup.find_all('a')\n",
    "        \n",
    "        for link in links:\n",
    "            href = link.get('href')\n",
    "            if href:\n",
    "                absolute_url = urljoin(base_url_year, href)\n",
    "                if \".csv\" in absolute_url:\n",
    "                    list_of_links.append(absolute_url)\n",
    "\n",
    "        return list_of_links"
   ]
  },
  {
   "cell_type": "code",
   "execution_count": 53,
   "metadata": {},
   "outputs": [],
   "source": [
    "# Function to randomly sample links from the list of all available links\n",
    "random.seed(8)\n",
    "def random_links(list_of_links, no_of_links):\n",
    "    links_to_fetch = random.sample(list_of_links, no_of_links)\n",
    "    return links_to_fetch"
   ]
  },
  {
   "cell_type": "code",
   "execution_count": 54,
   "metadata": {},
   "outputs": [],
   "source": [
    "# Function to download all the required files using wget, and place it in the required folder\n",
    "def download_files(links_to_fetch, folder):\n",
    "    os.makedirs(folder, exist_ok=True)\n",
    "        \n",
    "    for url in links_to_fetch:\n",
    "        filename = folder + \"/\" + url.split(\"/\")[-1]\n",
    "        urllib.request.urlretrieve(url, filename)"
   ]
  },
  {
   "cell_type": "code",
   "execution_count": 57,
   "metadata": {},
   "outputs": [],
   "source": [
    "def create_folder(folder_path):\n",
    "    if os.path.exists(folder_path):\n",
    "        for root, dirs, files in os.walk(folder_path, topdown=False):\n",
    "            for file in files:\n",
    "                os.remove(os.path.join(root, file)) \n",
    "            for dir in dirs:\n",
    "                os.rmdir(os.path.join(root, dir)) \n",
    "        os.rmdir(folder_path) \n",
    "    os.makedirs(folder_path) "
   ]
  },
  {
   "cell_type": "code",
   "execution_count": 58,
   "metadata": {},
   "outputs": [],
   "source": [
    "# Defining the base_url, year which we want to work with, number of files to be fetched and the destination folder for the csv files\n",
    "base_url = \"https://www.ncei.noaa.gov/data/local-climatological-data/access/\"\n",
    "year = \"2023\"\n",
    "no_of_links = 5\n",
    "folder = \"../data/\" + year\n",
    "create_folder(folder)"
   ]
  },
  {
   "cell_type": "code",
   "execution_count": 59,
   "metadata": {},
   "outputs": [],
   "source": [
    "list_of_links = fetch_links(base_url, year)\n",
    "links_to_fetch = random_links(list_of_links, no_of_links)\n",
    "download_files(links_to_fetch, folder)"
   ]
  },
  {
   "cell_type": "code",
   "execution_count": null,
   "metadata": {},
   "outputs": [],
   "source": []
  }
 ],
 "metadata": {
  "kernelspec": {
   "display_name": "Python 3",
   "language": "python",
   "name": "python3"
  },
  "language_info": {
   "codemirror_mode": {
    "name": "ipython",
    "version": 3
   },
   "file_extension": ".py",
   "mimetype": "text/x-python",
   "name": "python",
   "nbconvert_exporter": "python",
   "pygments_lexer": "ipython3",
   "version": "3.9.1"
  }
 },
 "nbformat": 4,
 "nbformat_minor": 2
}
