{
 "cells": [
  {
   "cell_type": "code",
   "execution_count": 59,
   "metadata": {},
   "outputs": [],
   "source": [
    "import pandas as pd\n",
    "import numpy as np\n",
    "from tqdm import tqdm\n",
    "\n",
    "from sklearn.metrics import r2_score"
   ]
  },
  {
   "cell_type": "code",
   "execution_count": 18,
   "metadata": {},
   "outputs": [],
   "source": [
    "data = pd.read_csv(r'C:\\Users\\91979\\Desktop\\Jup_NoteBks\\BDL\\Asgt_3\\example\\DVC_repo\\data\\99999913724.csv')"
   ]
  },
  {
   "cell_type": "code",
   "execution_count": 29,
   "metadata": {},
   "outputs": [
    {
     "data": {
      "text/html": [
       "<div>\n",
       "<style scoped>\n",
       "    .dataframe tbody tr th:only-of-type {\n",
       "        vertical-align: middle;\n",
       "    }\n",
       "\n",
       "    .dataframe tbody tr th {\n",
       "        vertical-align: top;\n",
       "    }\n",
       "\n",
       "    .dataframe thead th {\n",
       "        text-align: right;\n",
       "    }\n",
       "</style>\n",
       "<table border=\"1\" class=\"dataframe\">\n",
       "  <thead>\n",
       "    <tr style=\"text-align: right;\">\n",
       "      <th></th>\n",
       "      <th>STATION</th>\n",
       "      <th>DATE</th>\n",
       "      <th>LATITUDE</th>\n",
       "      <th>LONGITUDE</th>\n",
       "      <th>ELEVATION</th>\n",
       "      <th>NAME</th>\n",
       "      <th>REPORT_TYPE</th>\n",
       "      <th>SOURCE</th>\n",
       "      <th>HourlyAltimeterSetting</th>\n",
       "      <th>HourlyDewPointTemperature</th>\n",
       "      <th>...</th>\n",
       "      <th>BackupDirection</th>\n",
       "      <th>BackupDistance</th>\n",
       "      <th>BackupDistanceUnit</th>\n",
       "      <th>BackupElements</th>\n",
       "      <th>BackupElevation</th>\n",
       "      <th>BackupEquipment</th>\n",
       "      <th>BackupLatitude</th>\n",
       "      <th>BackupLongitude</th>\n",
       "      <th>BackupName</th>\n",
       "      <th>WindEquipmentChangeDate</th>\n",
       "    </tr>\n",
       "  </thead>\n",
       "  <tbody>\n",
       "    <tr>\n",
       "      <th>0</th>\n",
       "      <td>99999913724</td>\n",
       "      <td>2023-01-01 23:59:00</td>\n",
       "      <td>39.37778</td>\n",
       "      <td>-74.42361</td>\n",
       "      <td>3.0</td>\n",
       "      <td>ATLANTIC CITY MARINA, NJ US</td>\n",
       "      <td>SOD</td>\n",
       "      <td>6</td>\n",
       "      <td>NaN</td>\n",
       "      <td>NaN</td>\n",
       "      <td>...</td>\n",
       "      <td>NaN</td>\n",
       "      <td>NaN</td>\n",
       "      <td>NaN</td>\n",
       "      <td>NaN</td>\n",
       "      <td>NaN</td>\n",
       "      <td>NaN</td>\n",
       "      <td>NaN</td>\n",
       "      <td>NaN</td>\n",
       "      <td>NaN</td>\n",
       "      <td>NaN</td>\n",
       "    </tr>\n",
       "    <tr>\n",
       "      <th>1</th>\n",
       "      <td>99999913724</td>\n",
       "      <td>2023-01-02 23:59:00</td>\n",
       "      <td>39.37778</td>\n",
       "      <td>-74.42361</td>\n",
       "      <td>3.0</td>\n",
       "      <td>ATLANTIC CITY MARINA, NJ US</td>\n",
       "      <td>SOD</td>\n",
       "      <td>6</td>\n",
       "      <td>NaN</td>\n",
       "      <td>NaN</td>\n",
       "      <td>...</td>\n",
       "      <td>NaN</td>\n",
       "      <td>NaN</td>\n",
       "      <td>NaN</td>\n",
       "      <td>NaN</td>\n",
       "      <td>NaN</td>\n",
       "      <td>NaN</td>\n",
       "      <td>NaN</td>\n",
       "      <td>NaN</td>\n",
       "      <td>NaN</td>\n",
       "      <td>NaN</td>\n",
       "    </tr>\n",
       "  </tbody>\n",
       "</table>\n",
       "<p>2 rows × 125 columns</p>\n",
       "</div>"
      ],
      "text/plain": [
       "       STATION                DATE  LATITUDE  LONGITUDE  ELEVATION  \\\n",
       "0  99999913724 2023-01-01 23:59:00  39.37778  -74.42361        3.0   \n",
       "1  99999913724 2023-01-02 23:59:00  39.37778  -74.42361        3.0   \n",
       "\n",
       "                          NAME REPORT_TYPE  SOURCE  HourlyAltimeterSetting  \\\n",
       "0  ATLANTIC CITY MARINA, NJ US       SOD         6                     NaN   \n",
       "1  ATLANTIC CITY MARINA, NJ US       SOD         6                     NaN   \n",
       "\n",
       "   HourlyDewPointTemperature  ...  BackupDirection  BackupDistance  \\\n",
       "0                        NaN  ...              NaN             NaN   \n",
       "1                        NaN  ...              NaN             NaN   \n",
       "\n",
       "   BackupDistanceUnit  BackupElements  BackupElevation  BackupEquipment  \\\n",
       "0                 NaN             NaN              NaN              NaN   \n",
       "1                 NaN             NaN              NaN              NaN   \n",
       "\n",
       "   BackupLatitude  BackupLongitude  BackupName  WindEquipmentChangeDate  \n",
       "0             NaN              NaN         NaN                      NaN  \n",
       "1             NaN              NaN         NaN                      NaN  \n",
       "\n",
       "[2 rows x 125 columns]"
      ]
     },
     "execution_count": 29,
     "metadata": {},
     "output_type": "execute_result"
    }
   ],
   "source": [
    "data['DATE'] = pd.to_datetime(data['DATE'])\n",
    "data.head(2)"
   ]
  },
  {
   "cell_type": "code",
   "execution_count": 21,
   "metadata": {},
   "outputs": [],
   "source": [
    "quantities = list(data)\n",
    "\n",
    "daily_q = []\n",
    "monthly_q = []\n",
    "\n",
    "for quantity in quantities:\n",
    "    if \"Daily\" in quantity:\n",
    "        daily_q.append(quantity[5:])\n",
    "\n",
    "    elif \"Monthly\" in quantity:\n",
    "        monthly_q.append(quantity[7:])"
   ]
  },
  {
   "cell_type": "code",
   "execution_count": 22,
   "metadata": {},
   "outputs": [],
   "source": [
    "common_q = set(daily_q).intersection(set(monthly_q))"
   ]
  },
  {
   "cell_type": "code",
   "execution_count": 28,
   "metadata": {},
   "outputs": [
    {
     "data": {
      "text/plain": [
       "['DepartureFromNormalAverageTemperature']"
      ]
     },
     "execution_count": 28,
     "metadata": {},
     "output_type": "execute_result"
    }
   ],
   "source": [
    "list(common_q)"
   ]
  },
  {
   "cell_type": "code",
   "execution_count": 53,
   "metadata": {},
   "outputs": [],
   "source": [
    "monthly_avg_calc = data.groupby(data['DATE'].dt.to_period('M'))['DailyDepartureFromNormalAverageTemperature'].mean()"
   ]
  },
  {
   "cell_type": "code",
   "execution_count": 54,
   "metadata": {},
   "outputs": [],
   "source": [
    "monthly_avg_calc_list = list(monthly_avg_calc)"
   ]
  },
  {
   "cell_type": "code",
   "execution_count": 55,
   "metadata": {},
   "outputs": [],
   "source": [
    "monthly_avg_obs_from_data = data.groupby(data['DATE'].dt.to_period('M'))['MonthlyDepartureFromNormalAverageTemperature'].sum()"
   ]
  },
  {
   "cell_type": "code",
   "execution_count": 56,
   "metadata": {},
   "outputs": [],
   "source": [
    "monthly_avg_obs_list = []\n",
    "for i in range(len(list(monthly_avg_obs_from_data))):\n",
    "    if list(monthly_avg_obs_from_data)[i] !=0 :\n",
    "        monthly_avg_obs_list.append(list(monthly_avg_obs_from_data)[i])\n",
    "    else :\n",
    "        monthly_avg_obs_list.append(list(monthly_avg_calc)[i])"
   ]
  },
  {
   "cell_type": "code",
   "execution_count": 57,
   "metadata": {},
   "outputs": [
    {
     "data": {
      "text/plain": [
       "[8.8, 5.8, 2.0, 4.2, -1.3, -2.0, 1.2, -0.4, 1.4, 2.6, -0.9, 5.1033333333333335]"
      ]
     },
     "execution_count": 57,
     "metadata": {},
     "output_type": "execute_result"
    }
   ],
   "source": [
    "monthly_avg_obs_list"
   ]
  },
  {
   "cell_type": "code",
   "execution_count": 58,
   "metadata": {},
   "outputs": [
    {
     "data": {
      "text/plain": [
       "[9.012903225806454,\n",
       " 6.007142857142857,\n",
       " 2.638709677419355,\n",
       " 4.730000000000001,\n",
       " -0.6322580645161291,\n",
       " -1.4366666666666665,\n",
       " 1.5129032258064514,\n",
       " -0.19354838709677416,\n",
       " 1.2766666666666666,\n",
       " 2.5677419354838706,\n",
       " -0.9466666666666667,\n",
       " 5.1033333333333335]"
      ]
     },
     "execution_count": 58,
     "metadata": {},
     "output_type": "execute_result"
    }
   ],
   "source": [
    "monthly_avg_calc_list"
   ]
  },
  {
   "cell_type": "code",
   "execution_count": 60,
   "metadata": {},
   "outputs": [
    {
     "name": "stdout",
     "output_type": "stream",
     "text": [
      "R2 Score: 0.9854823379780282\n"
     ]
    }
   ],
   "source": [
    "r2 = r2_score(monthly_avg_obs_list, monthly_avg_calc_list)\n",
    "\n",
    "print(\"R2 Score:\", r2)"
   ]
  },
  {
   "cell_type": "code",
   "execution_count": null,
   "metadata": {},
   "outputs": [],
   "source": []
  }
 ],
 "metadata": {
  "kernelspec": {
   "display_name": "Python 3",
   "language": "python",
   "name": "python3"
  },
  "language_info": {
   "codemirror_mode": {
    "name": "ipython",
    "version": 3
   },
   "file_extension": ".py",
   "mimetype": "text/x-python",
   "name": "python",
   "nbconvert_exporter": "python",
   "pygments_lexer": "ipython3",
   "version": "3.9.1"
  }
 },
 "nbformat": 4,
 "nbformat_minor": 2
}
