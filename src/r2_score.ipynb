{
 "cells": [
  {
   "cell_type": "code",
   "execution_count": 8,
   "metadata": {},
   "outputs": [],
   "source": [
    "import pandas as pd\n",
    "import numpy as np\n",
    "import os\n",
    "import json\n",
    "\n",
    "from sklearn.metrics import r2_score"
   ]
  },
  {
   "cell_type": "code",
   "execution_count": 14,
   "metadata": {},
   "outputs": [],
   "source": [
    "directory = rf\"C:\\Users\\91979\\Desktop\\Jup_NoteBks\\BDL\\Asgt_3\\example\\DVC_repo\\outputs_computed\\computed\"\n",
    "directory_GT = rf\"C:\\Users\\91979\\Desktop\\Jup_NoteBks\\BDL\\Asgt_3\\example\\DVC_repo\\outputs\\GT\"\n",
    "\n",
    "r2_score_list = []\n",
    "\n",
    "for filename in os.listdir(directory):\n",
    "    file_path = os.path.join(directory, filename)\n",
    "    file_path_GT = os.path.join(directory_GT, filename)\n",
    "\n",
    "    df_pred = pd.read_csv(file_path)\n",
    "    df_true = pd.read_csv(file_path_GT)\n",
    "\n",
    "    for column in df_true.columns:\n",
    "        pred_list = df_pred[column]\n",
    "        true_list = []\n",
    "        for i in range(len(list(df_true[column]))):\n",
    "            if list(df_true[column])[i] !=0 :\n",
    "                true_list.append(list(df_true[column])[i])\n",
    "            else :\n",
    "                true_list.append(list(df_pred[column])[i])\n",
    "\n",
    "        r2 = r2_score(true_list, pred_list)\n",
    "        r2_score_list.append(r2)"
   ]
  },
  {
   "cell_type": "code",
   "execution_count": 19,
   "metadata": {},
   "outputs": [],
   "source": [
    "with open(rf\"C:\\Users\\91979\\Desktop\\Jup_NoteBks\\BDL\\Asgt_3\\example\\DVC_repo\\metrics\\r2_score.json\", 'w') as f:\n",
    "        f.write(json.dumps(\n",
    "            dict(avg_r2_score=np.mean(np.array(r2_score_list))),\n",
    "            indent=4\n",
    "        ))"
   ]
  },
  {
   "cell_type": "code",
   "execution_count": null,
   "metadata": {},
   "outputs": [],
   "source": []
  }
 ],
 "metadata": {
  "kernelspec": {
   "display_name": "Python 3",
   "language": "python",
   "name": "python3"
  },
  "language_info": {
   "codemirror_mode": {
    "name": "ipython",
    "version": 3
   },
   "file_extension": ".py",
   "mimetype": "text/x-python",
   "name": "python",
   "nbconvert_exporter": "python",
   "pygments_lexer": "ipython3",
   "version": "3.9.1"
  }
 },
 "nbformat": 4,
 "nbformat_minor": 2
}
